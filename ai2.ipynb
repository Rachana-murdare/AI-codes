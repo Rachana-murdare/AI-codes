{
 "cells": [
  {
   "cell_type": "code",
   "execution_count": 1,
   "metadata": {},
   "outputs": [
    {
     "name": "stdout",
     "output_type": "stream",
     "text": [
      "['A', 'B', 'C']\n"
     ]
    }
   ],
   "source": [
    "import heapq\n",
    "\n",
    "def a_star(start, goal, neighbors, heuristic):\n",
    "    open_list = [(0 + heuristic(start, goal), 0, start, [])]\n",
    "    while open_list:\n",
    "        _, g, node, path = heapq.heappop(open_list)\n",
    "        if node == goal: return path + [node]\n",
    "        for neighbor, cost in neighbors(node):\n",
    "            heapq.heappush(open_list, (g + cost + heuristic(neighbor, goal), g + cost, neighbor, path + [node]))\n",
    "\n",
    "# Example usage\n",
    "def neighbors(node): return {'A': [('B', 1), ('C', 3)], 'B': [('A', 1), ('C', 1)], 'C': [('A', 3), ('B', 1)]}.get(node, [])\n",
    "def heuristic(node, goal): return {'A': 4, 'B': 3, 'C': 1}.get(node, float('inf'))\n",
    "\n",
    "print(a_star('A', 'C', neighbors, heuristic))\n"
   ]
  }
 ],
 "metadata": {
  "kernelspec": {
   "display_name": "Python 3",
   "language": "python",
   "name": "python3"
  },
  "language_info": {
   "codemirror_mode": {
    "name": "ipython",
    "version": 3
   },
   "file_extension": ".py",
   "mimetype": "text/x-python",
   "name": "python",
   "nbconvert_exporter": "python",
   "pygments_lexer": "ipython3",
   "version": "3.12.2"
  }
 },
 "nbformat": 4,
 "nbformat_minor": 2
}
