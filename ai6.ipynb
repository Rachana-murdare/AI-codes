{
 "cells": [
  {
   "cell_type": "code",
   "execution_count": 3,
   "metadata": {},
   "outputs": [
    {
     "name": "stdout",
     "output_type": "stream",
     "text": [
      "Symmetry Degree: [0.], Thickness Degree: [0.5]\n"
     ]
    }
   ],
   "source": [
    "import numpy as np\n",
    "\n",
    "# Define a triangular membership function with zero-division handling\n",
    "def triangular_mf(x, a, b, c):\n",
    "    left = (x-a)/(b-a) if b != a else np.zeros_like(x)  # Avoid division by zero\n",
    "    right = (c-x)/(c-b) if b != c else np.zeros_like(x)  # Avoid division by zero\n",
    "    \n",
    "    # Ensure valid output and handle cases where x is exactly a, b, or c\n",
    "    result = np.maximum(0, np.minimum(left, right))\n",
    "    \n",
    "    # Handle x exactly at the peak\n",
    "    result = np.where((x == b) & (b != a) & (b != c), 1.0, result)\n",
    "    return result\n",
    "\n",
    "# Define input range\n",
    "x_symmetry = np.linspace(0, 100, 100)\n",
    "x_thickness = np.linspace(0, 10, 100)\n",
    "\n",
    "# Membership functions\n",
    "symmetry_high = triangular_mf(x_symmetry, 50, 100, 100)\n",
    "thickness_medium = triangular_mf(x_thickness, 3, 5, 7)\n",
    "\n",
    "# Example input values\n",
    "sym_input = 60\n",
    "thick_input = 4\n",
    "\n",
    "# Calculate membership values\n",
    "sym_degree = triangular_mf(np.array([sym_input]), 50, 100, 100)\n",
    "thick_degree = triangular_mf(np.array([thick_input]), 3, 5, 7)\n",
    "\n",
    "print(f\"Symmetry Degree: {sym_degree}, Thickness Degree: {thick_degree}\")\n"
   ]
  }
 ],
 "metadata": {
  "kernelspec": {
   "display_name": "Python 3",
   "language": "python",
   "name": "python3"
  },
  "language_info": {
   "codemirror_mode": {
    "name": "ipython",
    "version": 3
   },
   "file_extension": ".py",
   "mimetype": "text/x-python",
   "name": "python",
   "nbconvert_exporter": "python",
   "pygments_lexer": "ipython3",
   "version": "3.12.2"
  }
 },
 "nbformat": 4,
 "nbformat_minor": 2
}
