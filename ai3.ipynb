{
 "cells": [
  {
   "cell_type": "code",
   "execution_count": null,
   "metadata": {},
   "outputs": [
    {
     "name": "stdout",
     "output_type": "stream",
     "text": [
      "Expert System - Health Diagnosis\n"
     ]
    }
   ],
   "source": [
    "def diagnose(symptoms):\n",
    "    rules = {\n",
    "        \"fever cough\": \"Flu\",\n",
    "        \"fever rash\": \"Measles\",\n",
    "        \"cough headache\": \"Cold\",\n",
    "        \"stomach pain nausea\": \"Food Poisoning\",\n",
    "        \"sore throat cough\": \"Throat Infection\"\n",
    "    }\n",
    "\n",
    "    matched_conditions = [disease for rule, disease in rules.items() if all(symptom in symptoms for symptom in rule.split())]\n",
    "    return matched_conditions[0] if matched_conditions else \"Diagnosis unclear. Consult a doctor.\"\n",
    "\n",
    "print(\"Expert System - Health Diagnosis\")\n",
    "user_symptoms = input(\"Enter your symptoms separated by spaces: \").lower()\n",
    "diagnosis = diagnose(user_symptoms)\n",
    "print(f\"Diagnosis: {diagnosis}\")\n"
   ]
  },
  {
   "cell_type": "markdown",
   "metadata": {},
   "source": []
  }
 ],
 "metadata": {
  "kernelspec": {
   "display_name": "Python 3",
   "language": "python",
   "name": "python3"
  },
  "language_info": {
   "codemirror_mode": {
    "name": "ipython",
    "version": 3
   },
   "file_extension": ".py",
   "mimetype": "text/x-python",
   "name": "python",
   "nbconvert_exporter": "python",
   "pygments_lexer": "ipython3",
   "version": "3.12.2"
  }
 },
 "nbformat": 4,
 "nbformat_minor": 2
}
